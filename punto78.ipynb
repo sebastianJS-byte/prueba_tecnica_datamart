{
 "cells": [
  {
   "cell_type": "markdown",
   "metadata": {},
   "source": [
    "Escribe una función llamada remove_duplicates que acepte una lista como parámetro y devuelva una nueva lista sin elementos duplicados."
   ]
  },
  {
   "cell_type": "code",
   "execution_count": 3,
   "metadata": {},
   "outputs": [
    {
     "name": "stdout",
     "output_type": "stream",
     "text": [
      "[1, 2, 3, 4, 5, 6, 7]\n",
      "[1, 2, 3, 4, 5, 6, 7]\n"
     ]
    }
   ],
   "source": [
    "#Se podria hacer con un bucle for y un if, \n",
    "#Pero el set no permite duplicados, por lo que se eliminan automaticamente\n",
    "#Y el set es mas rapido que un bucle for ya que no tiene que recorrer toda la lista\n",
    "#Por lo que es mas eficiente\n",
    "\n",
    "\n",
    "def remove_duplicates(lst):\n",
    "    return list(set(lst))\n",
    "\n",
    "print(remove_duplicates([1, 2, 3, 4, 4, 5, 6, 6, 7]))\n",
    "\n",
    "\n",
    "def remove_duplicates_with_for(lst):\n",
    "    new_lst = []\n",
    "    for i in lst:\n",
    "        if i not in new_lst:\n",
    "            new_lst.append(i)\n",
    "    return new_lst\n",
    "\n",
    "print(remove_duplicates_with_for([1, 2, 3, 4, 4, 5, 6, 6, 7]))"
   ]
  },
  {
   "cell_type": "markdown",
   "metadata": {},
   "source": [
    "Dada una lista de números en orden ascendente y un número objetivo, escribe una función recursiva que encuentre si el número objetivo está en la lista utilizando una búsqueda binaria \n"
   ]
  },
  {
   "cell_type": "code",
   "execution_count": 8,
   "metadata": {},
   "outputs": [
    {
     "name": "stdout",
     "output_type": "stream",
     "text": [
      "4\n"
     ]
    }
   ],
   "source": [
    "def find_me(arr,target,start,end):\n",
    "  if start > end:\n",
    "    return None\n",
    "  \n",
    "  middle = (start + end) // 2\n",
    "  \n",
    "  if arr[middle] == target:\n",
    "    return middle\n",
    "  if arr[middle] > target:\n",
    "    return find_me(arr, target, start, middle - 1)\n",
    "  if arr[middle] < target:\n",
    "    return find_me(arr, target, middle + 1, end)\n",
    "  \n",
    "\n",
    "print(find_me([1,2,3,4,5,6,7,8,9,10], 5, 0, 9 ))"
   ]
  },
  {
   "cell_type": "code",
   "execution_count": 9,
   "metadata": {},
   "outputs": [],
   "source": [
    "import time\n",
    "from concurrent.futures import ThreadPoolExecutor, as_completed\n",
    "\n",
    "def parallel_map_with_find_me(domain_list, target_list, max_workers=4):\n",
    "    inicio = time.time()\n",
    "    results = [None] * len(target_list)\n",
    "    \n",
    "    def search_and_store(index):\n",
    "        result = find_me(domain_list, target_list[index], 0, len(domain_list) - 1)\n",
    "        if result is None:\n",
    "            results[index] = f\"No se encontro el {target_list[index]}\"\n",
    "        else:\n",
    "            results[index] = f\"Se encontro {target_list[index]} en la posicion {result}\"\n",
    "    \n",
    "    with ThreadPoolExecutor(max_workers=max_workers) as executor:\n",
    "        futures = [executor.submit(search_and_store, i) for i in range(len(target_list))]\n",
    "        for future in as_completed(futures):\n",
    "            future.result()  # Wait for all futures to complete\n",
    "    print(f\"Tiempo de ejecucion: {time.time() - inicio}\")\n",
    "    return results\n"
   ]
  },
  {
   "cell_type": "code",
   "execution_count": 10,
   "metadata": {},
   "outputs": [],
   "source": [
    "def map_with_find_me(domain_list, target_list):\n",
    "    inicio = time.time()\n",
    "    results = []\n",
    "    for target in target_list:\n",
    "        result = find_me(domain_list, target, 0, len(domain_list) - 1)\n",
    "        if result is None:\n",
    "            results.append(f\"No se encontro el {target}\")\n",
    "        else:\n",
    "            results.append(f\"Se encontro {target} en la posicion {result}\")\n",
    "    print(f\"Tiempo de ejecucion: {time.time() - inicio}\")\n",
    "    return results\n"
   ]
  },
  {
   "cell_type": "code",
   "execution_count": 11,
   "metadata": {},
   "outputs": [
    {
     "name": "stdout",
     "output_type": "stream",
     "text": [
      "Tiempo de ejecucion: 0.0\n",
      "['Se encontro 3 en la posicion 2', 'Se encontro 6 en la posicion 5', 'No se encontro el 11', 'Se encontro 1 en la posicion 0']\n",
      "Tiempo de ejecucion: 0.0009996891021728516\n",
      "['Se encontro 3 en la posicion 2', 'Se encontro 6 en la posicion 5', 'No se encontro el 11', 'Se encontro 1 en la posicion 0']\n"
     ]
    }
   ],
   "source": [
    "domain_list = [1, 2, 3, 4, 5, 6, 7, 8, 9, 10]\n",
    "target_list = [3, 6, 11, 1]\n",
    "\n",
    "# Usando el mapeo secuencial\n",
    "print(map_with_find_me(domain_list, target_list))  \n",
    "# Usando el mapeo paralelo\n",
    "print(parallel_map_with_find_me(domain_list, target_list, max_workers=4))  "
   ]
  },
  {
   "cell_type": "markdown",
   "metadata": {},
   "source": [
    "Utilizar una busqueda binaria en lugar de una secuencial mejora el rendimiento por unos aspectos sencillos\n",
    "En cada \"step\" paso reduce a la mitad el numero de elementos a comparar, logrando un mejor rendimeinto\n",
    "Menos comparaciones implican menos operaciones, lo que es eficiente para listas grandes."
   ]
  }
 ],
 "metadata": {
  "kernelspec": {
   "display_name": "Python 3",
   "language": "python",
   "name": "python3"
  },
  "language_info": {
   "codemirror_mode": {
    "name": "ipython",
    "version": 3
   },
   "file_extension": ".py",
   "mimetype": "text/x-python",
   "name": "python",
   "nbconvert_exporter": "python",
   "pygments_lexer": "ipython3",
   "version": "3.12.2"
  }
 },
 "nbformat": 4,
 "nbformat_minor": 2
}
