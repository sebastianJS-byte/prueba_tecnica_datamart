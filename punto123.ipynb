{
 "cells": [
  {
   "cell_type": "markdown",
   "metadata": {},
   "source": [
    "Punto 1. Escribe una función llamada merge_arrays que acepte dos arrays ordenados de enteros como parámetros y devuelva un solo array ordenado que contenga todos los elementos de ambos."
   ]
  },
  {
   "cell_type": "code",
   "execution_count": 15,
   "metadata": {},
   "outputs": [
    {
     "name": "stdout",
     "output_type": "stream",
     "text": [
      "Tiempo de ejecucion: 0.0\n",
      "[1, 2, 3, 4, 5, 6]\n",
      "Tiempo de ejecucion: 0.0\n",
      "[1, 2, 3, 4, 5, 6]\n"
     ]
    }
   ],
   "source": [
    "import time\n",
    "# Esta solucion es aprovechando los metodos de python para listas\n",
    "# extend() para agregar los elementos de la segunda lista a la primera\n",
    "# sorted() para ordenar la lista resultante\n",
    "def merge_arrays(arr1, arr2):\n",
    "    inicio = time.time()\n",
    "    arr1.extend(arr2)\n",
    "    sorted_arr = sorted(arr1)\n",
    "    print(f\"Tiempo de ejecucion: {time.time()-inicio}\")\n",
    "    return sorted_arr\n",
    "  \n",
    "arr1 = [1, 3, 5]\n",
    "arr2 = [2, 4, 6]\n",
    "print(merge_arrays(arr1, arr2))\n",
    "\n",
    "# Esta solucion es mas manual, se basa en un algoritmo de ordenamiento de seleccion\n",
    "def selection_sort(arr):\n",
    "  inicio = time.time()\n",
    "  for i in range(len(arr)):\n",
    "    # Encontrar el minimo elemento en el resto de la lista\n",
    "    min_idx = i\n",
    "    # Iterar sobre el resto de la lista\n",
    "    for j in range(i+1, len(arr)):\n",
    "      # Si encontramos un elemento menor que el minimo actual, actualizamos el indice del minimo\n",
    "      if arr[j] < arr[min_idx]:\n",
    "        min_idx = j\n",
    "    # Intercambiar el minimo con el elemento actual\n",
    "    arr[i], arr[min_idx] = arr[min_idx], arr[i]\n",
    "  print(f\"Tiempo de ejecucion: {time.time()-inicio}\")\n",
    "  return arr\n",
    "\n",
    "\n",
    "def merge_arrays2(arr1, arr2):\n",
    "    arr1.extend(arr2)\n",
    "    return selection_sort(arr1)\n",
    "  \n",
    "print(merge_arrays2(arr1, arr2))"
   ]
  },
  {
   "cell_type": "markdown",
   "metadata": {},
   "source": [
    "Punto 2. Escribe una función llamada find_median que acepte un array de enteros como parámetro y devuelva la mediana del conjunto"
   ]
  },
  {
   "cell_type": "code",
   "execution_count": 16,
   "metadata": {},
   "outputs": [
    {
     "name": "stdout",
     "output_type": "stream",
     "text": [
      "3.5\n"
     ]
    }
   ],
   "source": [
    "from typing import List\n",
    "\n",
    "def find_median(arr: List[int]) -> float:\n",
    "    arr.sort()\n",
    "    n = len(arr)\n",
    "    #Si el conjunto de datos es par\n",
    "    if n % 2 == 0:\n",
    "      return (arr[n // 2 - 1] + arr[n // 2]) / 2\n",
    "    #Si el conjunto de datos es impar\n",
    "    return arr[n // 2]\n",
    "  \n",
    "print(find_median([1, 3, 5, 2, 4, 6]))  "
   ]
  },
  {
   "cell_type": "markdown",
   "metadata": {},
   "source": [
    "Punto 3. Escribe una clase llamada BinaryTree que implemente un árbol binario de búsqueda. La clase debe tener métodos para insertar, buscar, debe ser capaz de imprimir el árbol en orden ascendente"
   ]
  },
  {
   "cell_type": "markdown",
   "metadata": {},
   "source": []
  },
  {
   "cell_type": "markdown",
   "metadata": {},
   "source": []
  },
  {
   "cell_type": "code",
   "execution_count": 1,
   "metadata": {},
   "outputs": [
    {
     "name": "stdout",
     "output_type": "stream",
     "text": [
      "Inorder traversal: [1, 3, 4, 5, 6, 7, 8]\n",
      "Search 4: True Path: [5, 3, 4]\n",
      "Search 10: False Path: [5, 7, 8]\n"
     ]
    }
   ],
   "source": [
    "class Node:\n",
    "    def __init__(self, key):\n",
    "        self.left = None\n",
    "        self.right = None\n",
    "        self.val = key\n",
    "\n",
    "class BinaryTree:\n",
    "    def __init__(self):\n",
    "        self.root = None\n",
    "\n",
    "    def insert(self, key):\n",
    "        if self.root is None:\n",
    "            self.root = Node(key)\n",
    "        else:\n",
    "            self._insert(self.root, key)\n",
    "\n",
    "    def _insert(self, root, key):\n",
    "        if key < root.val:\n",
    "            if root.left is None:\n",
    "                root.left = Node(key)\n",
    "            else:\n",
    "                self._insert(root.left, key)\n",
    "        else:\n",
    "            if root.right is None:\n",
    "                root.right = Node(key)\n",
    "            else:\n",
    "                self._insert(root.right, key)\n",
    "\n",
    "    def search(self, key):\n",
    "        path = []\n",
    "        found = self._search(self.root, key, path)\n",
    "        return found, path\n",
    "\n",
    "    def _search(self, root, key, path):\n",
    "        if root is None:\n",
    "            return False\n",
    "        path.append(root.val)\n",
    "        if root.val == key:\n",
    "            return True\n",
    "        if key < root.val:\n",
    "            return self._search(root.left, key, path)\n",
    "        return self._search(root.right, key, path)\n",
    "\n",
    "    def inorder(self):\n",
    "        return self._inorder(self.root, [])\n",
    "\n",
    "    def _inorder(self, root, res):\n",
    "        if root:\n",
    "            self._inorder(root.left, res)\n",
    "            res.append(root.val)\n",
    "            self._inorder(root.right, res)\n",
    "        return res\n",
    "\n",
    "# Ejemplo de uso\n",
    "bt = BinaryTree()\n",
    "bt.insert(5)\n",
    "bt.insert(3)\n",
    "bt.insert(7)\n",
    "bt.insert(1)\n",
    "bt.insert(4)\n",
    "bt.insert(6)\n",
    "bt.insert(8)\n",
    "\n",
    "print(\"Inorder traversal:\", bt.inorder())\n",
    "found, path = bt.search(4)\n",
    "print(\"Search 4:\", found, \"Path:\", path)\n",
    "found, path = bt.search(10)\n",
    "print(\"Search 10:\", found, \"Path:\", path)\n"
   ]
  }
 ],
 "metadata": {
  "kernelspec": {
   "display_name": "Python 3",
   "language": "python",
   "name": "python3"
  },
  "language_info": {
   "codemirror_mode": {
    "name": "ipython",
    "version": 3
   },
   "file_extension": ".py",
   "mimetype": "text/x-python",
   "name": "python",
   "nbconvert_exporter": "python",
   "pygments_lexer": "ipython3",
   "version": "3.12.2"
  }
 },
 "nbformat": 4,
 "nbformat_minor": 2
}
